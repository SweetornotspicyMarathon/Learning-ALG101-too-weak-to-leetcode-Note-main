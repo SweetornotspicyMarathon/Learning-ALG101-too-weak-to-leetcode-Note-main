{
  "nbformat": 4,
  "nbformat_minor": 0,
  "metadata": {
    "colab": {
      "name": "20201013_LidemyU3+U4.ipynb",
      "provenance": [],
      "authorship_tag": "ABX9TyMfQt7pSrtfFZz39kacmym3",
      "include_colab_link": true
    },
    "kernelspec": {
      "name": "python3",
      "display_name": "Python 3"
    }
  },
  "cells": [
    {
      "cell_type": "markdown",
      "metadata": {
        "id": "view-in-github",
        "colab_type": "text"
      },
      "source": [
        "<a href=\"https://colab.research.google.com/github/SYkkk55/LearningNote-ALG101-too-weak-to-leetcode/blob/main/Unit3_code.ipynb\" target=\"_parent\"><img src=\"https://colab.research.google.com/assets/colab-badge.svg\" alt=\"Open In Colab\"/></a>"
      ]
    },
    {
      "cell_type": "markdown",
      "metadata": {
        "id": "HqbiE0EnIWFG"
      },
      "source": [
        "https://oj.lidemy.com/problem/1008\n",
        "\n",
        "\n",
        "Lidemy 課程的U3-1\n",
        "\n",
        "題目是第 1008 題"
      ]
    },
    {
      "cell_type": "markdown",
      "metadata": {
        "id": "e9x1t8YkIn5M"
      },
      "source": [
        "Input\n",
        "輸入為一個數字 M（1 &lt;= M &lt;= 2^{31} - 11<=M<=2 \n",
        "31\n",
        " −1）\n",
        "\n",
        "\n",
        "Output\n",
        "請輸出若是要取 M 個單位的水，最少需要帶幾個水桶\n",
        "\n",
        "\n",
        "20 單位的水，帶一個 16 的水桶加一個 4 的水桶即可，所以答案是 2"
      ]
    },
    {
      "cell_type": "code",
      "metadata": {
        "id": "4UmexksSxjqh",
        "colab": {
          "base_uri": "https://localhost:8080/",
          "height": 34
        },
        "outputId": "a3537baa-de17-4a69-c89b-0e71907bc36d"
      },
      "source": [
        "# 20單位的水\n",
        "WaterM=20\n",
        "M=WaterM\n",
        "arr=[]\n",
        "\n",
        "\n",
        "# Total 紀錄2的倍數的總和\n",
        "# Count=0 紀錄2的倍數\n",
        "Total=0\n",
        "\n",
        "\n",
        "def persernt_2(M):\n",
        "  Count=0\n",
        "  while M>=2:\n",
        "    M=int(M/2)\n",
        "    Count+=1    \n",
        "    if M<=1:\n",
        "      return pow(2,Count)\n",
        "\n",
        "\n",
        "while Total<WaterM:  \n",
        "  Total=Total+persernt_2(int(M-Total))\n",
        "  arr.append(Total)\n",
        "\n",
        "print(WaterM,\"公升的水需要\",len(arr),\"個水桶\")"
      ],
      "execution_count": null,
      "outputs": [
        {
          "output_type": "stream",
          "text": [
            "20 公升的水需要 2 個水桶\n"
          ],
          "name": "stdout"
        }
      ]
    },
    {
      "cell_type": "markdown",
      "metadata": {
        "id": "gyctGmVQPk0X"
      },
      "source": [
        "1017貪婪的小偷\n",
        "\n",
        "https://oj.lidemy.com/problem/1017"
      ]
    },
    {
      "cell_type": "code",
      "metadata": {
        "id": "ZnM5Zlw0Pkhh",
        "colab": {
          "base_uri": "https://localhost:8080/"
        },
        "outputId": "d2220e59-f8b8-4496-86f6-6989e9eb32ac"
      },
      "source": [
        "import sys\n",
        "ThingsNumber=int(input()) # 小偷偷幾個\n",
        "AllThings=int(input()) #全部物品有幾個\n",
        "AllArr=[]\n",
        "for i in range(AllThings):\n",
        "    a=int(input())\n",
        "    AllArr.append(a)\n",
        "\n",
        "AllArr.sort(reverse=True)\n",
        "Total=0\n",
        "for j in range(ThingsNumber):\n",
        "    Total=Total+int(AllArr[j])\n",
        "\n",
        "print(Total)\n",
        "\n",
        "\n"
      ],
      "execution_count": null,
      "outputs": [
        {
          "output_type": "stream",
          "text": [
            "1\n",
            "2\n",
            "3\n",
            "4\n",
            "4\n"
          ],
          "name": "stdout"
        }
      ]
    },
    {
      "cell_type": "markdown",
      "metadata": {
        "id": "71Z7RRe8awxg"
      },
      "source": [
        "LIOJ #1020 判斷質數\n",
        "nput\n",
        "第一行為一個正整數 N，1 &lt;= N &lt;= 1001<=N<=100，代表一共有幾個數字\n",
        "\n",
        "接下來 N 行每一行都包含了一個正整數 P，1 &lt;= P &lt;= 1000001<=P<=100000\n",
        "\n",
        "Output\n",
        "針對每一筆輸入，如果 P 是質數，輸出：Prime，否之則輸出 Composite\n",
        "\n",
        "（附註：Composite 是合數的意思，不過有一點要注意的是 1 不是質數也不是合數，但在這一題裡面一樣要輸出Composite）"
      ]
    },
    {
      "cell_type": "code",
      "metadata": {
        "id": "QfrrIobW4qUJ"
      },
      "source": [
        "#input\n",
        "5\n",
        "1\n",
        "2\n",
        "3\n",
        "4\n",
        "5\n",
        "\n",
        "#output\n",
        "Composite\n",
        "Prime\n",
        "Prime\n",
        "Composite\n",
        "Prime\n"
      ],
      "execution_count": null,
      "outputs": []
    },
    {
      "cell_type": "code",
      "metadata": {
        "id": "JHKnZMwR4PQn",
        "colab": {
          "base_uri": "https://localhost:8080/"
        },
        "outputId": "9f898c22-6f59-4530-a59d-f1091352e8d1"
      },
      "source": [
        "import sys\n",
        "\n",
        "def IsPrime(Number):\n",
        "  \n",
        "\n",
        "  if Number==1:\n",
        "    return 'Composite'\n",
        "  elif Number==2:\n",
        "    return 'Prime'\n",
        "\n",
        "  else:\n",
        "    for j in range(Number-2):\n",
        "      # print(j+2)\n",
        "      if Number%(j+2)==0:\n",
        "        return 'Composite' \n",
        "    \n",
        "    return 'Prime'\n",
        "    \n",
        "\n",
        "\n",
        "AllNum=int(input()) # 共有幾個數\n",
        "\n",
        "Nums=[]\n",
        "for i in range(AllNum):\n",
        "    a=int(input())\n",
        "    print(IsPrime(a))\n",
        "   \n",
        "\n"
      ],
      "execution_count": null,
      "outputs": [
        {
          "output_type": "stream",
          "text": [
            "1\n",
            "4\n",
            "Composite\n"
          ],
          "name": "stdout"
        }
      ]
    }
  ]
}