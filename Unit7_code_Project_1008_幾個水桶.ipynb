{
  "nbformat": 4,
  "nbformat_minor": 0,
  "metadata": {
    "colab": {
      "name": "U7 Project #1008 幾個水桶.ipynb",
      "provenance": [],
      "authorship_tag": "ABX9TyNh5QkN0cRD9aytqGjZW7R/",
      "include_colab_link": true
    },
    "kernelspec": {
      "name": "python3",
      "display_name": "Python 3"
    }
  },
  "cells": [
    {
      "cell_type": "markdown",
      "metadata": {
        "id": "view-in-github",
        "colab_type": "text"
      },
      "source": [
        "<a href=\"https://colab.research.google.com/github/SweetornotspicyMarathon/Learning-ALG101-too-weak-to-leetcode-Note-main/blob/main/U7_Project_1008_%E5%B9%BE%E5%80%8B%E6%B0%B4%E6%A1%B6.ipynb\" target=\"_parent\"><img src=\"https://colab.research.google.com/assets/colab-badge.svg\" alt=\"Open In Colab\"/></a>"
      ]
    },
    {
      "cell_type": "code",
      "metadata": {
        "colab": {
          "base_uri": "https://localhost:8080/"
        },
        "id": "aiQVv1V2JUOX",
        "outputId": "3cc6ee61-ba6f-4415-9f2d-dffac367c6e0"
      },
      "source": [
        "#第一個版本\r\n",
        "import sys\r\n",
        "\r\n",
        "M=int(input()) # 多少公升的水\r\n",
        "\r\n",
        "def CountBucket(M):\r\n",
        "\r\n",
        "  Water=M\r\n",
        "  if Water<=2:\r\n",
        "    return 1\r\n",
        "\r\n",
        "  else:\r\n",
        "    Bucket=0\r\n",
        "    while Water>0:\r\n",
        "\r\n",
        "      for i in range(31):       \r\n",
        "        if Water<2**i:          \r\n",
        "          tmp=2**(i-1)\r\n",
        "          break\r\n",
        "        else:\r\n",
        "          continue  \r\n",
        "          \r\n",
        "      Water =Water-tmp  \r\n",
        "      Bucket+=1\r\n",
        "\r\n",
        "    return Bucket\r\n",
        "   \r\n",
        "print(CountBucket(M))"
      ],
      "execution_count": 1,
      "outputs": [
        {
          "output_type": "stream",
          "text": [
            "20\n",
            "2\n"
          ],
          "name": "stdout"
        }
      ]
    },
    {
      "cell_type": "code",
      "metadata": {
        "colab": {
          "base_uri": "https://localhost:8080/"
        },
        "id": "reGf3SPeLwAu",
        "outputId": "2a3f2141-931a-42f0-883b-4f47ebe9a10a"
      },
      "source": [
        "#第二個版本\r\n",
        "import sys\r\n",
        "\r\n",
        "M=int(input()) # 多少公升的水\r\n",
        "\r\n",
        "def CountBucket(M):\r\n",
        "\r\n",
        "  Water=M\r\n",
        "  if Water<=2:\r\n",
        "    return 1\r\n",
        "\r\n",
        "  else:\r\n",
        "    Bucket=0\r\n",
        "    tmp=0\r\n",
        "    while Water>0:\r\n",
        "\r\n",
        "      for i in range(31):       \r\n",
        "        if Water<2**i:          \r\n",
        "          tmp=2**(i-1)\r\n",
        "          break\r\n",
        "        else:\r\n",
        "          continue  \r\n",
        "          \r\n",
        "      Water =Water-tmp  \r\n",
        "      Bucket+=1\r\n",
        "\r\n",
        "    return Bucket\r\n",
        "   \r\n",
        "print(CountBucket(M))"
      ],
      "execution_count": 2,
      "outputs": [
        {
          "output_type": "stream",
          "text": [
            "20\n",
            "2\n"
          ],
          "name": "stdout"
        }
      ]
    },
    {
      "cell_type": "code",
      "metadata": {
        "colab": {
          "base_uri": "https://localhost:8080/"
        },
        "id": "SK6yIcIiLv91",
        "outputId": "ad9cc590-82b8-4e51-bbf8-c3fe7d2ad8d3"
      },
      "source": [
        "#第三個版本\r\n",
        "import sys\r\n",
        "\r\n",
        "M=int(input()) # 多少公升的水\r\n",
        "\r\n",
        "def CountBucket(M):\r\n",
        "\r\n",
        "  Water=M\r\n",
        "  if Water<=2:\r\n",
        "    return 1\r\n",
        "\r\n",
        "  else:\r\n",
        "    Bucket=0\r\n",
        "    tmp=0\r\n",
        "    while Water>0:\r\n",
        "\r\n",
        "      for i in range(32):       \r\n",
        "        if Water<2**i:          \r\n",
        "          tmp=2**(i-1)\r\n",
        "          break\r\n",
        "        else:\r\n",
        "          continue  \r\n",
        "          \r\n",
        "      Water =Water-tmp  \r\n",
        "      Bucket+=1\r\n",
        "\r\n",
        "    return Bucket\r\n",
        "   \r\n",
        "print(CountBucket(M))"
      ],
      "execution_count": 3,
      "outputs": [
        {
          "output_type": "stream",
          "text": [
            "20\n",
            "2\n"
          ],
          "name": "stdout"
        }
      ]
    },
    {
      "cell_type": "code",
      "metadata": {
        "colab": {
          "base_uri": "https://localhost:8080/"
        },
        "id": "oVMpA8f1Lv7T",
        "outputId": "6fbcb641-95b6-4d4e-95b6-a6cb8d30a15b"
      },
      "source": [
        "# 1018 幾個水桶\r\n",
        "import sys\r\n",
        "\r\n",
        "M=int(input()) # 多少公升的水\r\n",
        "\r\n",
        "def CountBucket(M):\r\n",
        "  Count=0\r\n",
        "  Bucket=0\r\n",
        "  Water=M\r\n",
        "  \r\n",
        "  if Water<=2:\r\n",
        "    return 1\r\n",
        " \r\n",
        "  else:\r\n",
        "\r\n",
        "    while M>0:\r\n",
        "      Water=M\r\n",
        "      while Water>1:\r\n",
        "\r\n",
        "        Water=int(Water/2)    \r\n",
        "        Count+=1\r\n",
        "\r\n",
        "      M=M-2**Count \r\n",
        "      Bucket+=1 \r\n",
        "      Count=0\r\n",
        "   \r\n",
        "    return Bucket\r\n",
        "print(CountBucket(M))"
      ],
      "execution_count": 4,
      "outputs": [
        {
          "output_type": "stream",
          "text": [
            "20\n",
            "2\n"
          ],
          "name": "stdout"
        }
      ]
    },
    {
      "cell_type": "code",
      "metadata": {
        "colab": {
          "base_uri": "https://localhost:8080/"
        },
        "id": "JYj46T11Lv4V",
        "outputId": "855c3a5a-d580-43dd-e927-054363c5c77b"
      },
      "source": [
        "#第五個版本\r\n",
        "water=int(input())\r\n",
        "bucket=0\r\n",
        "while water!=0:\r\n",
        "  if water%2!=0:\r\n",
        "    bucket+=1\r\n",
        "  water=int(water/2)\r\n",
        "print(bucket)"
      ],
      "execution_count": 5,
      "outputs": [
        {
          "output_type": "stream",
          "text": [
            "20\n",
            "2\n"
          ],
          "name": "stdout"
        }
      ]
    }
  ]
}
