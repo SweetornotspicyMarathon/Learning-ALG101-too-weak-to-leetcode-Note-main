{
  "nbformat": 4,
  "nbformat_minor": 0,
  "metadata": {
    "colab": {
      "name": "U6.ipynb",
      "provenance": [],
      "authorship_tag": "ABX9TyMIal3EgF9vFziHz2hv6vRJ",
      "include_colab_link": true
    },
    "kernelspec": {
      "name": "python3",
      "display_name": "Python 3"
    }
  },
  "cells": [
    {
      "cell_type": "markdown",
      "metadata": {
        "id": "view-in-github",
        "colab_type": "text"
      },
      "source": [
        "<a href=\"https://colab.research.google.com/github/SYkkk55/Learning-ALG101-too-weak-to-leetcode-Note/blob/main/Unit6_code.ipynb\" target=\"_parent\"><img src=\"https://colab.research.google.com/assets/colab-badge.svg\" alt=\"Open In Colab\"/></a>"
      ]
    },
    {
      "cell_type": "code",
      "metadata": {
        "colab": {
          "base_uri": "https://localhost:8080/"
        },
        "id": "ZH1eG9g3aG0N",
        "outputId": "4b97c129-1365-4c8c-a45d-9e7755ed1729"
      },
      "source": [
        "# Lidemy Project6 Array reverse LIOJ1036\r\n",
        "\r\n",
        "array=[]\r\n",
        "\r\n",
        "# input\r\n",
        "N=int(input())\r\n",
        "for i in range(N):\r\n",
        "  array.append(int(input()))\r\n",
        "\r\n",
        "# reverse\r\n",
        "for j in range(len(array)): \r\n",
        "  print(array[len(array)-j-1])"
      ],
      "execution_count": null,
      "outputs": [
        {
          "output_type": "stream",
          "text": [
            "5\n",
            "1\n",
            "2\n",
            "3\n",
            "4\n",
            "5\n",
            "5\n",
            "4\n",
            "3\n",
            "2\n",
            "1\n"
          ],
          "name": "stdout"
        }
      ]
    },
    {
      "cell_type": "code",
      "metadata": {
        "colab": {
          "base_uri": "https://localhost:8080/"
        },
        "id": "1y92s2FjdttX",
        "outputId": "c959e547-195f-41d6-f29e-565579fae766"
      },
      "source": [
        "# Lidemy Project6 Array reverse LIOJ1036\r\n",
        "\r\n",
        "# input\r\n",
        "N=int(input())\r\n",
        "\r\n",
        "\r\n",
        "# reverse\r\n",
        "def array_reverse(N):\r\n",
        "  array=[]\r\n",
        "\r\n",
        "  for i in range(N):\r\n",
        "    array.append(int(input()))\r\n",
        "\r\n",
        "  for j in range(len(array)): \r\n",
        "    print(array[len(array)-j-1])\r\n",
        "\r\n",
        "array_reverse(N)    "
      ],
      "execution_count": null,
      "outputs": [
        {
          "output_type": "stream",
          "text": [
            "3\n",
            "1\n",
            "2\n",
            "3\n",
            "3\n",
            "2\n",
            "1\n"
          ],
          "name": "stdout"
        }
      ]
    },
    {
      "cell_type": "code",
      "metadata": {
        "colab": {
          "base_uri": "https://localhost:8080/"
        },
        "id": "3Swa4j5Jjhv4",
        "outputId": "e477f9c4-6ec2-483d-af4e-212a492a95a0"
      },
      "source": [
        "# Lidemy Project6 Array filter LIOJ1037\r\n",
        "\r\n",
        "# delete num\r\n",
        "delete=int(input())\r\n",
        "\r\n",
        "# total num\r\n",
        "N = int(input())\r\n",
        "\r\n",
        "# filter\r\n",
        "def filter(delete,N):\r\n",
        "  array=[]\r\n",
        "\r\n",
        "  for i in range(N):\r\n",
        "    tmp=int(input())\r\n",
        "\r\n",
        "    if tmp!=delete :\r\n",
        "      array.append(tmp)\r\n",
        "\r\n",
        "  for j in range(len(array)): \r\n",
        "    print(array[j]) \r\n",
        "\r\n",
        "filter(delete,N)"
      ],
      "execution_count": null,
      "outputs": [
        {
          "output_type": "stream",
          "text": [
            "3\n",
            "5\n",
            "1\n",
            "2\n",
            "3\n",
            "4\n",
            "5\n",
            "1\n",
            "2\n",
            "4\n",
            "5\n"
          ],
          "name": "stdout"
        }
      ]
    },
    {
      "cell_type": "code",
      "metadata": {
        "colab": {
          "base_uri": "https://localhost:8080/"
        },
        "id": "rParmOxNlSTY",
        "outputId": "999823bc-0211-4dbc-b463-ac924d57ee77"
      },
      "source": [
        "# Lidemy Project6 Array indexOf LIOJ1038\r\n",
        "\r\n",
        "# target num\r\n",
        "target=int(input())\r\n",
        "\r\n",
        "# total num\r\n",
        "N = int(input())\r\n",
        "\r\n",
        "# indexof\r\n",
        "def indexof(target,N):\r\n",
        "  array=[]\r\n",
        "\r\n",
        "  for i in range(N):\r\n",
        "    array.append(int(input()))\r\n",
        "\r\n",
        "  for j in range(len(array)): \r\n",
        "    \r\n",
        "    if array[j]==target:\r\n",
        "      print(j)\r\n",
        "      break\r\n",
        "  else:\r\n",
        "    print(\"-1\") \r\n",
        "\r\n",
        "indexof(target,N)"
      ],
      "execution_count": null,
      "outputs": [
        {
          "output_type": "stream",
          "text": [
            "3\n",
            "5\n",
            "1\n",
            "2\n",
            "3\n",
            "3\n",
            "3\n",
            "J : 0\n",
            "J : 1\n",
            "J : 2\n",
            "2\n"
          ],
          "name": "stdout"
        }
      ]
    },
    {
      "cell_type": "code",
      "metadata": {
        "colab": {
          "base_uri": "https://localhost:8080/"
        },
        "id": "zpYgmKiJo9MM",
        "outputId": "a92ba996-ed89-4121-c6dc-6679ee17ec72"
      },
      "source": [
        "# Lidemy Project6 Array fill LIOJ1039\r\n",
        "\r\n",
        "# target num\r\n",
        "target=int(input())\r\n",
        "\r\n",
        "# total num\r\n",
        "N = int(input())\r\n",
        "\r\n",
        "# indexof\r\n",
        "def fill(target,N):\r\n",
        "  array=[]\r\n",
        "\r\n",
        "  for i in range(N):\r\n",
        "    array.append(int(input()))\r\n",
        "\r\n",
        "  for j in range(len(array)): \r\n",
        "    print(target)\r\n",
        "\r\n",
        "fill(target,N)"
      ],
      "execution_count": null,
      "outputs": [
        {
          "output_type": "stream",
          "text": [
            "10\n",
            "3\n",
            "1\n",
            "2\n",
            "3\n",
            "10\n",
            "10\n",
            "10\n"
          ],
          "name": "stdout"
        }
      ]
    },
    {
      "cell_type": "code",
      "metadata": {
        "colab": {
          "base_uri": "https://localhost:8080/"
        },
        "id": "P1PvHwvAq25Y",
        "outputId": "d3f161af-b4ad-47b5-d09c-256de044fc19"
      },
      "source": [
        "# Lidemy Project6 Array join LIOJ1040\r\n",
        "\r\n",
        "# target num\r\n",
        "target=str(input())\r\n",
        "\r\n",
        "# total num\r\n",
        "N = int(input())\r\n",
        "\r\n",
        "# join\r\n",
        "def join(target,N):\r\n",
        "  array=[]\r\n",
        "  \r\n",
        "  for i in range(N):\r\n",
        "    array.append(int(input()))\r\n",
        "\r\n",
        "  for j in range(len(array)): \r\n",
        "    if j ==0:\r\n",
        "      new_str=str(array[j])\r\n",
        "      \r\n",
        "    else:\r\n",
        "      \r\n",
        "      new_str+=str(target)\r\n",
        "      new_str+=str(array[j])\r\n",
        "                  \r\n",
        "  print(new_str)\r\n",
        "\r\n",
        "join(target,N)"
      ],
      "execution_count": null,
      "outputs": [
        {
          "output_type": "stream",
          "text": [
            "!!\n",
            "3\n",
            "1\n",
            "2\n",
            "3\n",
            "1!!2!!3\n"
          ],
          "name": "stdout"
        }
      ]
    },
    {
      "cell_type": "code",
      "metadata": {
        "colab": {
          "base_uri": "https://localhost:8080/"
        },
        "id": "f9_8rhE4uE4d",
        "outputId": "3bf280ee-6e33-41ae-c795-d83410200e6e"
      },
      "source": [
        "# Lidemy Project6 Array join LIOJ1040\r\n",
        "\r\n",
        "# target num\r\n",
        "target=str(input())\r\n",
        "\r\n",
        "# total num\r\n",
        "N = int(input())\r\n",
        "\r\n",
        "def join(target,N):\r\n",
        "  array=[]\r\n",
        "  \r\n",
        "  for i in range(N):\r\n",
        "    array.append(int(input()))\r\n",
        "\r\n",
        "  for j in range(len(array)):\r\n",
        "\r\n",
        "    if j==len(array)-1:\r\n",
        "      print(str(array[j]),end='')\r\n",
        "    else:\r\n",
        "      print(str(array[j]),end='')  \r\n",
        "      print(str(target),end='')\r\n",
        "\r\n",
        "join(target,N)"
      ],
      "execution_count": null,
      "outputs": [
        {
          "output_type": "stream",
          "text": [
            "!!\n",
            "3\n",
            "1\n",
            "2\n",
            "3\n",
            "1!!2!!3"
          ],
          "name": "stdout"
        }
      ]
    },
    {
      "cell_type": "code",
      "metadata": {
        "colab": {
          "base_uri": "https://localhost:8080/"
        },
        "id": "PL4-9z0dclxu",
        "outputId": "d60e1a23-76db-45db-dbdf-ce7fc8706b57"
      },
      "source": [
        "# Lidemy Project6 String trim LIOJ1041\r\n",
        "\r\n",
        "string=str(input())\r\n",
        "\r\n",
        "def trim(string):\r\n",
        "  New_string=''\r\n",
        "  \r\n",
        "  for i in range(len(string)):\r\n",
        "    if string[i]!=' ':\r\n",
        "      New_string=string[i:]\r\n",
        "      break\r\n",
        "       \r\n",
        "  print(New_string)\r\n",
        "  \r\n",
        "  \r\n",
        "trim(string)"
      ],
      "execution_count": null,
      "outputs": [
        {
          "output_type": "stream",
          "text": [
            "      a b c\n",
            "a b c\n"
          ],
          "name": "stdout"
        }
      ]
    },
    {
      "cell_type": "code",
      "metadata": {
        "colab": {
          "base_uri": "https://localhost:8080/"
        },
        "id": "erPbHauSfN_e",
        "outputId": "d37f71c6-ec6a-4243-f8f5-8cd747e90264"
      },
      "source": [
        "# Lidemy Project6 String toLowerCase LIOJ1042\r\n",
        "\r\n",
        "string=str(input())\r\n",
        "\r\n",
        "# A~Z :65~90\r\n",
        "# a~z :97~122\r\n",
        "\r\n",
        "def toLowerCase(string):\r\n",
        "  New_string=''\r\n",
        "  \r\n",
        "  for i in range(len(string)):\r\n",
        "\r\n",
        "    if 65<=ord(string[i])<=90:\r\n",
        "      New_string+=str(chr(ord(string[i])+32))\r\n",
        "\r\n",
        "    else: \r\n",
        "      New_string+=str(string[i])\r\n",
        "      \r\n",
        "  print(New_string)\r\n",
        "  \r\n",
        "toLowerCase(string)"
      ],
      "execution_count": null,
      "outputs": [
        {
          "output_type": "stream",
          "text": [
            "AbC!!\n",
            "abc!!\n"
          ],
          "name": "stdout"
        }
      ]
    },
    {
      "cell_type": "code",
      "metadata": {
        "colab": {
          "base_uri": "https://localhost:8080/"
        },
        "id": "Fph2-OUWg4tl",
        "outputId": "c356ef29-e445-40e6-d1ba-9948512404e2"
      },
      "source": [
        "string=str(input())\r\n",
        "target=str(input())\r\n",
        "\r\n",
        "def endwith(string,target):\r\n",
        "  \r\n",
        "  \r\n",
        "  if string[(len(string)-len(target)):len(string)]==target:\r\n",
        "    print(\"true\")\r\n",
        "  \r\n",
        "  else:\r\n",
        "    print(\"false\")\r\n",
        " \r\n",
        "endwith(string,target)"
      ],
      "execution_count": null,
      "outputs": [
        {
          "output_type": "stream",
          "text": [
            "aaabc\n",
            "aa\n",
            "bc\n",
            "false\n"
          ],
          "name": "stdout"
        }
      ]
    },
    {
      "cell_type": "code",
      "metadata": {
        "colab": {
          "base_uri": "https://localhost:8080/"
        },
        "id": "qW747xFWux1p",
        "outputId": "4d8895a2-80b6-4a7a-e264-f2acdd787273"
      },
      "source": [
        ""
      ],
      "execution_count": null,
      "outputs": [
        {
          "output_type": "stream",
          "text": [
            "a\n"
          ],
          "name": "stdout"
        }
      ]
    },
    {
      "cell_type": "code",
      "metadata": {
        "colab": {
          "base_uri": "https://localhost:8080/"
        },
        "id": "ToAAdYniuxxF",
        "outputId": "499af967-de20-4cc8-8466-3b1faac23459"
      },
      "source": [
        "string=str(input())\r\n",
        "length=int(input())\r\n",
        "pad=str(input())\r\n",
        "\r\n",
        "\r\n",
        "def padEnd(string,length,pad):\r\n",
        "\r\n",
        "  \r\n",
        "  if len(string)>=int(length):\r\n",
        "    print(string)\r\n",
        "    \r\n",
        "  \r\n",
        "  else: \r\n",
        "    New_str=string\r\n",
        "\r\n",
        "    while int(len(New_str))<int(length) :\r\n",
        "      New_str+=pad\r\n",
        "      \r\n",
        "\r\n",
        "\r\n",
        "    if int(len(New_str))==int(length):\r\n",
        "      print(New_str) \r\n",
        "      \r\n",
        "\r\n",
        "    else:\r\n",
        "      \r\n",
        "      print(New_str[0:int(length)]) \r\n",
        "        \r\n",
        "    \r\n",
        "\r\n",
        " \r\n",
        "padEnd(string,length,pad)"
      ],
      "execution_count": null,
      "outputs": [
        {
          "output_type": "stream",
          "text": [
            "abcaa\n",
            "10\n",
            "xyz\n",
            "abcaaxyzxy\n"
          ],
          "name": "stdout"
        }
      ]
    },
    {
      "cell_type": "code",
      "metadata": {
        "colab": {
          "base_uri": "https://localhost:8080/"
        },
        "id": "8RL4QGPUesfp",
        "outputId": "2d810df2-e0d9-42f3-b920-5fef67fff117"
      },
      "source": [
        "string=str(input())\r\n",
        "start=int(input())\r\n",
        "end=int(input())\r\n",
        "\r\n",
        "\r\n",
        "def slice(string,start,end):\r\n",
        "\r\n",
        "  \r\n",
        "  print(string[start:end])\r\n",
        "        \r\n",
        " \r\n",
        "slice(string,start,end)"
      ],
      "execution_count": null,
      "outputs": [
        {
          "output_type": "stream",
          "text": [
            "abcde\n",
            "0\n",
            "3\n",
            "abc\n"
          ],
          "name": "stdout"
        }
      ]
    }
  ]
}