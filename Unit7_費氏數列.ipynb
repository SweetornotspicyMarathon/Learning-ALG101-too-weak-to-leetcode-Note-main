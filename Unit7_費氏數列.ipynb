{
  "nbformat": 4,
  "nbformat_minor": 0,
  "metadata": {
    "colab": {
      "name": "U7_費氏數列.ipynb",
      "provenance": [],
      "authorship_tag": "ABX9TyOXniFju6zbGJGiKUqul8HH",
      "include_colab_link": true
    },
    "kernelspec": {
      "name": "python3",
      "display_name": "Python 3"
    }
  },
  "cells": [
    {
      "cell_type": "markdown",
      "metadata": {
        "id": "view-in-github",
        "colab_type": "text"
      },
      "source": [
        "<a href=\"https://colab.research.google.com/github/SweetornotspicyMarathon/Learning-ALG101-too-weak-to-leetcode-Note-main/blob/main/U7_%E8%B2%BB%E6%B0%8F%E6%95%B8%E5%88%97.ipynb\" target=\"_parent\"><img src=\"https://colab.research.google.com/assets/colab-badge.svg\" alt=\"Open In Colab\"/></a>"
      ]
    },
    {
      "cell_type": "code",
      "metadata": {
        "colab": {
          "base_uri": "https://localhost:8080/"
        },
        "id": "_XjaXZbXDunU",
        "outputId": "c4bfae11-5c17-4fff-c4b0-f4c6f058ae7d"
      },
      "source": [
        "def fibo(n):\r\n",
        "    if n == 0: return 0;\r\n",
        "    elif n == 1: return 1;\r\n",
        "    return fibo(n-1) + fibo(n-2)\r\n",
        "print(fibo(5))"
      ],
      "execution_count": 9,
      "outputs": [
        {
          "output_type": "stream",
          "text": [
            "5\n"
          ],
          "name": "stdout"
        }
      ]
    },
    {
      "cell_type": "markdown",
      "metadata": {
        "id": "gGZ7nmflEEPz"
      },
      "source": [
        "# 比較有無快取call 的次數"
      ]
    },
    {
      "cell_type": "code",
      "metadata": {
        "colab": {
          "base_uri": "https://localhost:8080/"
        },
        "id": "V8Y0RuKdED57",
        "outputId": "fb7a377e-5112-48e1-aa4d-f9c795cddde5"
      },
      "source": [
        "def fibo(n):\r\n",
        "    print(\"call\")\r\n",
        "    if n == 0: return 0;\r\n",
        "    elif n == 1: return 1;\r\n",
        "    return fibo(n-1) + fibo(n-2)\r\n",
        "print(fibo(5))    "
      ],
      "execution_count": 5,
      "outputs": [
        {
          "output_type": "stream",
          "text": [
            "call\n",
            "call\n",
            "call\n",
            "call\n",
            "call\n",
            "call\n",
            "call\n",
            "call\n",
            "call\n",
            "call\n",
            "call\n",
            "call\n",
            "call\n",
            "call\n",
            "call\n",
            "5\n"
          ],
          "name": "stdout"
        }
      ]
    },
    {
      "cell_type": "code",
      "metadata": {
        "colab": {
          "base_uri": "https://localhost:8080/"
        },
        "id": "xG1gw0-XEQVU",
        "outputId": "9d310a7b-6c4a-4701-ff88-b76210cbe924"
      },
      "source": [
        "import functools\r\n",
        "\r\n",
        "@functools.lru_cache()\r\n",
        "def fib_lru_cache(n):\r\n",
        "    print('call')\r\n",
        "    if n == 0: return 0;\r\n",
        "    elif n == 1: return 1;\r\n",
        "    return fib_lru_cache(n-1) + fib_lru_cache(n-2)\r\n",
        "    \r\n",
        "print(fib_lru_cache(5))"
      ],
      "execution_count": 7,
      "outputs": [
        {
          "output_type": "stream",
          "text": [
            "call\n",
            "call\n",
            "call\n",
            "call\n",
            "call\n",
            "call\n",
            "5\n"
          ],
          "name": "stdout"
        }
      ]
    },
    {
      "cell_type": "markdown",
      "metadata": {
        "id": "G4An6ehKOQrY"
      },
      "source": [
        "# 尾遞迴"
      ]
    },
    {
      "cell_type": "code",
      "metadata": {
        "colab": {
          "base_uri": "https://localhost:8080/"
        },
        "id": "p0Um7GdmOS1G",
        "outputId": "d37a7452-ca82-4a90-e42a-a94281b55049"
      },
      "source": [
        "def fibo_tail(n,result,tmp):\r\n",
        "    # print('call')\r\n",
        "    if n == 0: return 0\r\n",
        "    else:\r\n",
        "      \r\n",
        "      return fibo_tail(n - 1, tmp, result + tmp)\r\n",
        "\r\n",
        "print(fibo_tail(5,0,1))"
      ],
      "execution_count": 9,
      "outputs": [
        {
          "output_type": "stream",
          "text": [
            "call\n",
            "call\n",
            "call\n",
            "call\n",
            "call\n",
            "call\n",
            "0\n"
          ],
          "name": "stdout"
        }
      ]
    },
    {
      "cell_type": "markdown",
      "metadata": {
        "id": "0Qx12Wqerl4T"
      },
      "source": [
        "# 疊代作法 - 空間換取時間\r\n"
      ]
    },
    {
      "cell_type": "code",
      "metadata": {
        "colab": {
          "base_uri": "https://localhost:8080/"
        },
        "id": "Uf6zFH9Brp1L",
        "outputId": "8df9260e-8794-440b-c458-4fec15a577b3"
      },
      "source": [
        "def fibo_iterative(n):\r\n",
        "    # print('call')\r\n",
        "    a,b=0,1\r\n",
        "    \r\n",
        "    for _ in range(n):\r\n",
        "      a,b=b,a+b\r\n",
        "    return a\r\n",
        "\r\n",
        "print(fibo_iterative(5))    "
      ],
      "execution_count": 11,
      "outputs": [
        {
          "output_type": "stream",
          "text": [
            "55\n"
          ],
          "name": "stdout"
        }
      ]
    }
  ]
}
