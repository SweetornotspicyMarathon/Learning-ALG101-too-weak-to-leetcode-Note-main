{
  "nbformat": 4,
  "nbformat_minor": 0,
  "metadata": {
    "colab": {
      "name": "20200926_LidemyProject2.ipynb",
      "provenance": [],
      "authorship_tag": "ABX9TyO3GsVmykT6AxRH3Dq2DvOT"
    },
    "kernelspec": {
      "name": "python3",
      "display_name": "Python 3"
    }
  },
  "cells": [
    {
      "cell_type": "markdown",
      "metadata": {
        "id": "yszZPJ7hzNe5"
      },
      "source": [
        "# Lidemy project2\n",
        "# 第一題\n",
        "# 找陣列次小值\n",
        "\n",
        "input : [1,2,3,4,5,6,7,8,9,10]\n",
        "\n",
        "output : [2]\n"
      ]
    },
    {
      "cell_type": "code",
      "metadata": {
        "id": "iy8CPGpGufKK",
        "colab": {
          "base_uri": "https://localhost:8080/",
          "height": 34
        },
        "outputId": "35e4e124-71ce-4bf4-97f4-efb8926f5c1e"
      },
      "source": [
        "# 1\n",
        "\n",
        "arr=[100,123,53,78,961,32,1,456,1000]\n",
        "\n",
        "# 最小值 min_1,先令為陣列中的最大值\n",
        "# Li 則是令一個變數:極大值\n",
        "min_1=arr[arr.index(max(arr))] # 最小值\n",
        "min_2=arr[arr.index(max(arr))] # 次小值\n",
        "\n",
        "for i in range(len(arr)):\n",
        "\n",
        "  if arr[i] < min_1:\n",
        "    \n",
        "    min_2=min_1\n",
        "    min_1=arr[i]\n",
        "\n",
        "  elif arr[i]<min_2:\n",
        "     min_2=arr[i]\n",
        "\n",
        "print(min_2)\n"
      ],
      "execution_count": null,
      "outputs": [
        {
          "output_type": "stream",
          "text": [
            "32\n"
          ],
          "name": "stdout"
        }
      ]
    },
    {
      "cell_type": "markdown",
      "metadata": {
        "id": "mIALc8CszBPX"
      },
      "source": [
        "# Lidemy project2\n",
        "# 第二題\n",
        "# 大小寫互換\n",
        "\n",
        "input : [aBBc]\n",
        "\n",
        "output : [AbbC]"
      ]
    },
    {
      "cell_type": "code",
      "metadata": {
        "id": "LhtcNZQMzMFN",
        "colab": {
          "base_uri": "https://localhost:8080/",
          "height": 34
        },
        "outputId": "b52eaa29-287d-4046-d35f-2af57625c9c5"
      },
      "source": [
        "# 2\n",
        "\n",
        "# python 的 ASCII function\n",
        "# ord('s')：獲得s的   ASCII 值\n",
        "# chr(s)：獲得數字 s 對應的字母\n",
        "\n",
        "# print(ord('s'))\n",
        "# print(chr(115))\n",
        "\n",
        "# a-z :97-112\n",
        "# A-Z :65-90\n",
        "# ----------------------------------\n",
        "string='aBBc'\n",
        "new_string=''\n",
        "\n",
        "for i in range(len(string)):\n",
        "\n",
        "  # 如果是大寫\n",
        "  if 65 <= ord(string[i]) <=90 :\n",
        "    new_string+=str(chr(ord(string[i])+32))\n",
        "    \n",
        "\n",
        "    # 如果是小寫\n",
        "  else: \n",
        "    new_string+=str(chr(ord(string[i])-32))\n",
        "\n",
        "\n",
        "print(new_string)  "
      ],
      "execution_count": null,
      "outputs": [
        {
          "output_type": "stream",
          "text": [
            "AbbC\n"
          ],
          "name": "stdout"
        }
      ]
    },
    {
      "cell_type": "markdown",
      "metadata": {
        "id": "txWL7X72FjFo"
      },
      "source": [
        "# Lidemy project2\n",
        "# 第三題\n",
        "# 印出因數\n",
        "\n",
        "input : 15\n",
        "\n",
        "output : 1 3 5 15"
      ]
    },
    {
      "cell_type": "code",
      "metadata": {
        "id": "rbi9eUVlF7eE",
        "colab": {
          "base_uri": "https://localhost:8080/",
          "height": 85
        },
        "outputId": "4e8eaddf-26e9-4b60-bc04-c2e49243c82b"
      },
      "source": [
        "# 3\n",
        "\n",
        "input=15\n",
        "\n",
        "for i in range(1,input+1):\n",
        "\n",
        "  \n",
        "  if input%i==0:\n",
        "    print(i)\n",
        "  \n",
        "  "
      ],
      "execution_count": null,
      "outputs": [
        {
          "output_type": "stream",
          "text": [
            "1\n",
            "3\n",
            "5\n",
            "15\n"
          ],
          "name": "stdout"
        }
      ]
    }
  ]
}