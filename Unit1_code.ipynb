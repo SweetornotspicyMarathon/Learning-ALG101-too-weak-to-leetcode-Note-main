{
  "nbformat": 4,
  "nbformat_minor": 0,
  "metadata": {
    "colab": {
      "name": "20200926_Lidemy1.7Project1.ipynb",
      "provenance": [],
      "authorship_tag": "ABX9TyMei4zYfkQjtakxAY0TPB4s",
      "include_colab_link": true
    },
    "kernelspec": {
      "name": "python3",
      "display_name": "Python 3"
    }
  },
  "cells": [
    {
      "cell_type": "markdown",
      "metadata": {
        "id": "view-in-github",
        "colab_type": "text"
      },
      "source": [
        "<a href=\"https://colab.research.google.com/github/SYkkk55/LearningNote-ALG101-too-weak-to-leetcode/blob/main/Unit1_code.ipynb\" target=\"_parent\"><img src=\"https://colab.research.google.com/assets/colab-badge.svg\" alt=\"Open In Colab\"/></a>"
      ]
    },
    {
      "cell_type": "markdown",
      "metadata": {
        "id": "YdPQundgqhe5"
      },
      "source": [
        "# 第一題 字串反轉\n",
        "\n",
        " input: hello\n",
        "\n",
        " output: olleh"
      ]
    },
    {
      "cell_type": "code",
      "metadata": {
        "id": "2D5QCpDXhLmO",
        "colab": {
          "base_uri": "https://localhost:8080/",
          "height": 51
        },
        "outputId": "8ac65eb2-5852-4c75-908d-75f0512ffcc7"
      },
      "source": [
        "import sys\n",
        "\n",
        "string=input()\n",
        "new_str=[]\n",
        "\n",
        "\n",
        "def str_reversal(string):\n",
        "  # 字串陣列反轉\n",
        "  for i in range(len(string)):\n",
        "    new_str.append(string[len(string)-i-1])\n",
        "\n",
        "  # 字串合併\n",
        "  new_comb=''\n",
        "  for words in new_str:\n",
        "    new_comb+=words\n",
        "\n",
        "  print(new_comb)  \n",
        "\n",
        "\n",
        "str_reversal(string)"
      ],
      "execution_count": null,
      "outputs": [
        {
          "output_type": "stream",
          "text": [
            "Today is working day\n",
            "yad gnikrow si yadoT\n"
          ],
          "name": "stdout"
        }
      ]
    },
    {
      "cell_type": "code",
      "metadata": {
        "id": "IKeCpZx2CdhP"
      },
      "source": [
        ""
      ],
      "execution_count": null,
      "outputs": []
    },
    {
      "cell_type": "markdown",
      "metadata": {
        "id": "W2UlGvM7quA9"
      },
      "source": [
        "# 第二題 陣列總和\n",
        "input : [1,2,3]\n",
        "\n",
        "output : [6]\n"
      ]
    },
    {
      "cell_type": "code",
      "metadata": {
        "id": "KGIOah-YrA0d",
        "colab": {
          "base_uri": "https://localhost:8080/",
          "height": 34
        },
        "outputId": "ce851983-334c-4630-e2f2-6d328c26358b"
      },
      "source": [
        "arr=[1,2,3]\n",
        "print(sum(arr))\n",
        "\n"
      ],
      "execution_count": null,
      "outputs": [
        {
          "output_type": "stream",
          "text": [
            "6\n"
          ],
          "name": "stdout"
        }
      ]
    },
    {
      "cell_type": "code",
      "metadata": {
        "id": "Jwd2v_QrJ-Ta"
      },
      "source": [
        ""
      ],
      "execution_count": null,
      "outputs": []
    },
    {
      "cell_type": "markdown",
      "metadata": {
        "id": "niE8uB26KaKi"
      },
      "source": [
        "# 第三題 找最大值\n",
        "input : [1,2,3]\n",
        "\n",
        "output : [3]"
      ]
    },
    {
      "cell_type": "code",
      "metadata": {
        "id": "OR-qPh8MKlvF",
        "colab": {
          "base_uri": "https://localhost:8080/",
          "height": 34
        },
        "outputId": "a42b85b9-ab07-4886-e736-b532d86aae92"
      },
      "source": [
        "arr=[1,2,3]\n",
        "bigest=arr[1]\n",
        "for i in arr:\n",
        "  if i>bigest:\n",
        "    biggest=i\n",
        "print(biggest)    "
      ],
      "execution_count": null,
      "outputs": [
        {
          "output_type": "stream",
          "text": [
            "3\n"
          ],
          "name": "stdout"
        }
      ]
    }
  ]
}