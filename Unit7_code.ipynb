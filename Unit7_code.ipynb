{
  "nbformat": 4,
  "nbformat_minor": 0,
  "metadata": {
    "colab": {
      "name": "U7.ipynb ",
      "provenance": [],
      "collapsed_sections": [],
      "authorship_tag": "ABX9TyPMzYMFObLGJyAlGmuvLZTt",
      "include_colab_link": true
    },
    "kernelspec": {
      "name": "python3",
      "display_name": "Python 3"
    }
  },
  "cells": [
    {
      "cell_type": "markdown",
      "metadata": {
        "id": "view-in-github",
        "colab_type": "text"
      },
      "source": [
        "<a href=\"https://colab.research.google.com/github/SweetornotspicyMarathon/Learning-ALG101-too-weak-to-leetcode-Note-main/blob/main/Unit7_code.ipynb\" target=\"_parent\"><img src=\"https://colab.research.google.com/assets/colab-badge.svg\" alt=\"Open In Colab\"/></a>"
      ]
    },
    {
      "cell_type": "markdown",
      "metadata": {
        "id": "WjntE0b3_8tg"
      },
      "source": [
        "# 1008 幾個水桶\r\n"
      ]
    },
    {
      "cell_type": "code",
      "metadata": {
        "colab": {
          "base_uri": "https://localhost:8080/"
        },
        "id": "aiQVv1V2JUOX",
        "outputId": "3cc6ee61-ba6f-4415-9f2d-dffac367c6e0"
      },
      "source": [
        "#第一個版本\r\n",
        "import sys\r\n",
        "\r\n",
        "M=int(input()) # 多少公升的水\r\n",
        "\r\n",
        "def CountBucket(M):\r\n",
        "\r\n",
        "  Water=M\r\n",
        "  if Water<=2:\r\n",
        "    return 1\r\n",
        "\r\n",
        "  else:\r\n",
        "    Bucket=0\r\n",
        "    while Water>0:\r\n",
        "\r\n",
        "      for i in range(31):       \r\n",
        "        if Water<2**i:          \r\n",
        "          tmp=2**(i-1)\r\n",
        "          break\r\n",
        "        else:\r\n",
        "          continue  \r\n",
        "          \r\n",
        "      Water =Water-tmp  \r\n",
        "      Bucket+=1\r\n",
        "\r\n",
        "    return Bucket\r\n",
        "   \r\n",
        "print(CountBucket(M))"
      ],
      "execution_count": null,
      "outputs": [
        {
          "output_type": "stream",
          "text": [
            "20\n",
            "2\n"
          ],
          "name": "stdout"
        }
      ]
    },
    {
      "cell_type": "code",
      "metadata": {
        "colab": {
          "base_uri": "https://localhost:8080/"
        },
        "id": "reGf3SPeLwAu",
        "outputId": "2a3f2141-931a-42f0-883b-4f47ebe9a10a"
      },
      "source": [
        "#第二個版本\r\n",
        "import sys\r\n",
        "\r\n",
        "M=int(input()) # 多少公升的水\r\n",
        "\r\n",
        "def CountBucket(M):\r\n",
        "\r\n",
        "  Water=M\r\n",
        "  if Water<=2:\r\n",
        "    return 1\r\n",
        "\r\n",
        "  else:\r\n",
        "    Bucket=0\r\n",
        "    tmp=0\r\n",
        "    while Water>0:\r\n",
        "\r\n",
        "      for i in range(31):       \r\n",
        "        if Water<2**i:          \r\n",
        "          tmp=2**(i-1)\r\n",
        "          break\r\n",
        "        else:\r\n",
        "          continue  \r\n",
        "          \r\n",
        "      Water =Water-tmp  \r\n",
        "      Bucket+=1\r\n",
        "\r\n",
        "    return Bucket\r\n",
        "   \r\n",
        "print(CountBucket(M))"
      ],
      "execution_count": null,
      "outputs": [
        {
          "output_type": "stream",
          "text": [
            "20\n",
            "2\n"
          ],
          "name": "stdout"
        }
      ]
    },
    {
      "cell_type": "code",
      "metadata": {
        "colab": {
          "base_uri": "https://localhost:8080/"
        },
        "id": "SK6yIcIiLv91",
        "outputId": "ad9cc590-82b8-4e51-bbf8-c3fe7d2ad8d3"
      },
      "source": [
        "#第三個版本\r\n",
        "import sys\r\n",
        "\r\n",
        "M=int(input()) # 多少公升的水\r\n",
        "\r\n",
        "def CountBucket(M):\r\n",
        "\r\n",
        "  Water=M\r\n",
        "  if Water<=2:\r\n",
        "    return 1\r\n",
        "\r\n",
        "  else:\r\n",
        "    Bucket=0\r\n",
        "    tmp=0\r\n",
        "    while Water>0:\r\n",
        "\r\n",
        "      for i in range(32):       \r\n",
        "        if Water<2**i:          \r\n",
        "          tmp=2**(i-1)\r\n",
        "          break\r\n",
        "        else:\r\n",
        "          continue  \r\n",
        "          \r\n",
        "      Water =Water-tmp  \r\n",
        "      Bucket+=1\r\n",
        "\r\n",
        "    return Bucket\r\n",
        "   \r\n",
        "print(CountBucket(M))"
      ],
      "execution_count": null,
      "outputs": [
        {
          "output_type": "stream",
          "text": [
            "20\n",
            "2\n"
          ],
          "name": "stdout"
        }
      ]
    },
    {
      "cell_type": "code",
      "metadata": {
        "colab": {
          "base_uri": "https://localhost:8080/"
        },
        "id": "oVMpA8f1Lv7T",
        "outputId": "6fbcb641-95b6-4d4e-95b6-a6cb8d30a15b"
      },
      "source": [
        "# 1018 幾個水桶\r\n",
        "import sys\r\n",
        "\r\n",
        "M=int(input()) # 多少公升的水\r\n",
        "\r\n",
        "def CountBucket(M):\r\n",
        "  Count=0\r\n",
        "  Bucket=0\r\n",
        "  Water=M\r\n",
        "  \r\n",
        "  if Water<=2:\r\n",
        "    return 1\r\n",
        " \r\n",
        "  else:\r\n",
        "\r\n",
        "    while M>0:\r\n",
        "      Water=M\r\n",
        "      while Water>1:\r\n",
        "\r\n",
        "        Water=int(Water/2)    \r\n",
        "        Count+=1\r\n",
        "\r\n",
        "      M=M-2**Count \r\n",
        "      Bucket+=1 \r\n",
        "      Count=0\r\n",
        "   \r\n",
        "    return Bucket\r\n",
        "print(CountBucket(M))"
      ],
      "execution_count": null,
      "outputs": [
        {
          "output_type": "stream",
          "text": [
            "20\n",
            "2\n"
          ],
          "name": "stdout"
        }
      ]
    },
    {
      "cell_type": "code",
      "metadata": {
        "colab": {
          "base_uri": "https://localhost:8080/"
        },
        "id": "JYj46T11Lv4V",
        "outputId": "855c3a5a-d580-43dd-e927-054363c5c77b"
      },
      "source": [
        "#第五個版本\r\n",
        "water=int(input())\r\n",
        "bucket=0\r\n",
        "while water!=0:\r\n",
        "  if water%2!=0:\r\n",
        "    bucket+=1\r\n",
        "  water=int(water/2)\r\n",
        "print(bucket)"
      ],
      "execution_count": null,
      "outputs": [
        {
          "output_type": "stream",
          "text": [
            "20\n",
            "2\n"
          ],
          "name": "stdout"
        }
      ]
    },
    {
      "cell_type": "markdown",
      "metadata": {
        "id": "TZ9IPpjuAAFm"
      },
      "source": [
        "# 1009 倒著念\r\n"
      ]
    },
    {
      "cell_type": "code",
      "metadata": {
        "colab": {
          "base_uri": "https://localhost:8080/"
        },
        "id": "SkDhbv7nAU1H",
        "outputId": "a1abeece-4bab-4f5b-be03-ecac1d54349f"
      },
      "source": [
        "S = str(input())\r\n",
        "\r\n",
        "for i in range(len(S)):\r\n",
        "  print(S[len(S)-i-1],end='')"
      ],
      "execution_count": null,
      "outputs": [
        {
          "output_type": "stream",
          "text": [
            "abc\n",
            "cba"
          ],
          "name": "stdout"
        }
      ]
    },
    {
      "cell_type": "markdown",
      "metadata": {
        "id": "anEY45TtBv8O"
      },
      "source": [
        "# 1013 搭電梯"
      ]
    },
    {
      "cell_type": "code",
      "metadata": {
        "colab": {
          "base_uri": "https://localhost:8080/"
        },
        "id": "PeCnSvXGMHpB",
        "outputId": "cb9164ca-fb72-4fbb-ca60-b174c93e05b4"
      },
      "source": [
        "N= int(input()) \r\n",
        "\r\n",
        "def howmany(N):\r\n",
        "  arr=[0,1,1,2]\r\n",
        "  for i in range(4,21):\r\n",
        "    arr.append(arr[i-1]+arr[i-2]) \r\n",
        "  print(arr[N])\r\n",
        "\r\n",
        "howmany(N)"
      ],
      "execution_count": null,
      "outputs": [
        {
          "output_type": "stream",
          "text": [
            "20\n",
            "6765\n"
          ],
          "name": "stdout"
        }
      ]
    },
    {
      "cell_type": "markdown",
      "metadata": {
        "id": "BvDhnXK_N3zf"
      },
      "source": [
        "# 1014 不九人世"
      ]
    },
    {
      "cell_type": "code",
      "metadata": {
        "colab": {
          "base_uri": "https://localhost:8080/"
        },
        "id": "hpoVtgLcIkvo",
        "outputId": "9ce5d939-a02c-4b9b-f890-3896a586891d"
      },
      "source": [
        "N =str(input())\r\n",
        "\r\n",
        "def NoNine(N):\r\n",
        "  print(int(N,9)) \r\n",
        "  \r\n",
        "NoNine(N)"
      ],
      "execution_count": 30,
      "outputs": [
        {
          "output_type": "stream",
          "text": [
            "100\n",
            "81\n"
          ],
          "name": "stdout"
        }
      ]
    },
    {
      "cell_type": "markdown",
      "metadata": {
        "id": "lUsudkSMKd-4"
      },
      "source": [
        "# 1016 不合群的人\r\n"
      ]
    },
    {
      "cell_type": "code",
      "metadata": {
        "colab": {
          "base_uri": "https://localhost:8080/"
        },
        "id": "PrBLHqDQKfv_",
        "outputId": "15deb255-0304-4201-f458-e8a33967a7e5"
      },
      "source": [
        "# V1\r\n",
        "N=int (input())\r\n",
        "\r\n",
        "def outgroup(N):\r\n",
        "  arr=[]\r\n",
        "  Count_A=0\r\n",
        "  Count_B=0\r\n",
        "  A=[]\r\n",
        "  B=[]\r\n",
        "  for i in range(N):\r\n",
        "    tmp=str(input())\r\n",
        "    arr.append(tmp)\r\n",
        "\r\n",
        "    if tmp=='A':\r\n",
        "      Count_A+=1\r\n",
        "      A.append(str(i+1))\r\n",
        "    else:\r\n",
        "      Count_B+=1\r\n",
        "      B.append(str(i+1))\r\n",
        "\r\n",
        "  if N==1:\r\n",
        "    print(\"PEACE\") \r\n",
        "  elif Count_A==Count_B :\r\n",
        "    print(\"PEACE\")\r\n",
        "  elif Count_A==N :\r\n",
        "     print(\"PEACE\")\r\n",
        "  elif Count_B==N :\r\n",
        "     print(\"PEACE\")   \r\n",
        "  elif Count_A> Count_B:\r\n",
        "    for j in range(len(B)):\r\n",
        "      print(B[j])\r\n",
        "  else:\r\n",
        "    for j in range(len(A)):\r\n",
        "      print(A[j])    \r\n",
        "\r\n",
        "outgroup(N)"
      ],
      "execution_count": 46,
      "outputs": [
        {
          "output_type": "stream",
          "text": [
            "6\n",
            "A\n",
            "A\n",
            "A\n",
            "B\n",
            "B\n",
            "B\n",
            "PEACE\n"
          ],
          "name": "stdout"
        }
      ]
    },
    {
      "cell_type": "code",
      "metadata": {
        "colab": {
          "base_uri": "https://localhost:8080/"
        },
        "id": "cOuEltaKRu3W",
        "outputId": "1548e9bd-ae5b-4876-b9e4-77bb81da1129"
      },
      "source": [
        "# V2\r\n",
        "N=int (input())\r\n",
        "\r\n",
        "def outgroup(N):\r\n",
        "  arr=[]\r\n",
        "  Count_A=0\r\n",
        "  Count_B=0\r\n",
        "  A=[]\r\n",
        "  B=[]\r\n",
        "  for i in range(N):\r\n",
        "    tmp=str(input())\r\n",
        "    arr.append(tmp)\r\n",
        "\r\n",
        "    if tmp=='A':\r\n",
        "      Count_A+=1\r\n",
        "      A.append(str(i+1))\r\n",
        "    else:\r\n",
        "      Count_B+=1\r\n",
        "      B.append(str(i+1))\r\n",
        "\r\n",
        "  if N==1 or Count_A==Count_B or Count_A==N or Count_B==N:\r\n",
        "    print(\"PEACE\") \r\n",
        "   \r\n",
        "  elif Count_A> Count_B:\r\n",
        "    for j in range(len(B)):\r\n",
        "      print(B[j])\r\n",
        "  else:\r\n",
        "    for j in range(len(A)):\r\n",
        "      print(A[j])    \r\n",
        "\r\n",
        "outgroup(N)"
      ],
      "execution_count": 47,
      "outputs": [
        {
          "output_type": "stream",
          "text": [
            "5\n",
            "A\n",
            "A\n",
            "A\n",
            "B\n",
            "B\n",
            "4\n",
            "5\n"
          ],
          "name": "stdout"
        }
      ]
    },
    {
      "cell_type": "code",
      "metadata": {
        "colab": {
          "base_uri": "https://localhost:8080/"
        },
        "id": "0Daoz9XEfeVO",
        "outputId": "d6f8bf96-27bc-4b72-a4b2-9d6dd326696a"
      },
      "source": [
        "# V3\r\n",
        "N=int (input())\r\n",
        "\r\n",
        "def outgroup(N):\r\n",
        "  arr=[]\r\n",
        "  Count_A=0\r\n",
        "  Count_B=0\r\n",
        "  A=[]\r\n",
        "  B=[]\r\n",
        "  for i in range(N):\r\n",
        "    arr.append(str(input()))\r\n",
        "\r\n",
        "    if arr[i]=='A':\r\n",
        "      Count_A+=1\r\n",
        "      \r\n",
        "  Count_B=N-Count_A\r\n",
        "\r\n",
        "  if N==1 or Count_A==Count_B or Count_A==N or Count_B==N:\r\n",
        "    print(\"PEACE\") \r\n",
        "   \r\n",
        "  else:\r\n",
        "    wholose= \"A\" if Count_A<Count_B else \"B\"\r\n",
        "    \r\n",
        "    for j in range(N):\r\n",
        "      if (wholose==arr[j]):\r\n",
        "        print(j+1)\r\n",
        "   \r\n",
        "outgroup(N)"
      ],
      "execution_count": 89,
      "outputs": [
        {
          "output_type": "stream",
          "text": [
            "3\n",
            "A\n",
            "A\n",
            "B\n",
            "B\n",
            "3\n"
          ],
          "name": "stdout"
        }
      ]
    }
  ]
}