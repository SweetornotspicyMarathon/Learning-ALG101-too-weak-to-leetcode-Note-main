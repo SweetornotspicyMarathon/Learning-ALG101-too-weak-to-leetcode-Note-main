{
  "nbformat": 4,
  "nbformat_minor": 0,
  "metadata": {
    "colab": {
      "name": "Ledimy U5.ipynb",
      "provenance": [],
      "authorship_tag": "ABX9TyMLCN+F1avOw+kj+zHVTdDb",
      "include_colab_link": true
    },
    "kernelspec": {
      "name": "python3",
      "display_name": "Python 3"
    }
  },
  "cells": [
    {
      "cell_type": "markdown",
      "metadata": {
        "id": "view-in-github",
        "colab_type": "text"
      },
      "source": [
        "<a href=\"https://colab.research.google.com/github/SYkkk55/LearningNote-ALG101-too-weak-to-leetcode/blob/main/Unit5_code.ipynb\" target=\"_parent\"><img src=\"https://colab.research.google.com/assets/colab-badge.svg\" alt=\"Open In Colab\"/></a>"
      ]
    },
    {
      "cell_type": "code",
      "metadata": {
        "id": "U3w3Q_PYk5Zp"
      },
      "source": [
        "#  Lidemy U5.3 身分證驗證\n",
        "\n",
        "# 身分證規則\n",
        "\n",
        "# 1.英文轉對應數字\n",
        "# A 10\n",
        "# B 11 ...\n",
        "\n",
        "# 2.轉成數字後就會有11位數，再把每一位數乘以1、9 8 7 6 5 3 2 1 1 \n",
        "# 接著相加後除以10 \n",
        "# 如果整除就通過驗證"
      ],
      "execution_count": null,
      "outputs": []
    },
    {
      "cell_type": "code",
      "metadata": {
        "id": "URCc64rjlveq",
        "colab": {
          "base_uri": "https://localhost:8080/"
        },
        "outputId": "f26f07e8-065c-4f44-88c9-a69e8ac160cb"
      },
      "source": [
        "# 判斷身份證字號是否合法\n",
        "def isVailid(IDString):\n",
        "\n",
        "  # 1.處理英文字母的部分，轉成數字\n",
        "  \n",
        "\n",
        "  dict = {'A':10, 'B':11, 'C':12, 'D':13, 'E':14, 'F':15,\n",
        "       'G':16, 'H':17, 'I':34, 'J':18, 'K':19, \n",
        "       'M':21, 'N':22, 'O':35, 'P':23, 'Q':24, 'T':27,\n",
        "       'U':28, 'V':29, 'W':32, 'X':30, 'Z':33,\n",
        "       'L':20, 'R':25, 'S':26, 'Y':31}\n",
        "  \n",
        "  \n",
        "  ID_Num=str(dict[str(IDString[0])])\n",
        "  ID_Num=ID_Num+(str(IDString[1:]))\n",
        "\n",
        "\n",
        "  # 2.每個數字依序乘以 1 9 8 7 6 5 4 3 2 1 1 \n",
        "  Sum=0\n",
        "  \n",
        "  for i in range(len(ID_Num)):\n",
        "    if i==0:\n",
        "      Sum+=int(ID_Num[i])*1\n",
        "\n",
        "    elif i==10:\n",
        "      Sum+=int(ID_Num[i])*1\n",
        "\n",
        "    else:\n",
        "      Sum+=int(ID_Num[i])*(10-i)\n",
        "\n",
        "\n",
        "  if Sum%10==0:\n",
        "    print(\"True\")\n",
        "  else:\n",
        "    print(\"False\")\n",
        "\n",
        "isVailid('A222345123')"
      ],
      "execution_count": null,
      "outputs": [
        {
          "output_type": "stream",
          "text": [
            "False\n"
          ],
          "name": "stdout"
        }
      ]
    },
    {
      "cell_type": "code",
      "metadata": {
        "id": "fcQcpl7wP7eX"
      },
      "source": [
        ""
      ],
      "execution_count": null,
      "outputs": []
    },
    {
      "cell_type": "code",
      "metadata": {
        "id": "qniFDyqDxE3l"
      },
      "source": [
        "#  Lidemy U5.4 數字各位數加總\n",
        "\n",
        "# 數字各位數加總的意思是指說\n",
        "# 如果數字為 1234 那加總的結果是 1+2+3+4=10\n",
        "# 數字為1111 加總結果為1+1+1+1=4\n",
        "# 數字為-1111 加總結果為1+1+1+1=4\n",
        "\n",
        "# 這個題目有兩個對於輸入進來的數字的處理方法\n",
        "# 1.一個是用數字解，依照輸入進來的數字一直除以10取餘數，\n",
        "# 而可以得各位數數值\n",
        "# 2.轉換成文字解，直接變成字串，依照字串每一個直接加\n",
        "\n",
        "# 特別注意第一種方法遇到負數的情況\n"
      ],
      "execution_count": null,
      "outputs": []
    },
    {
      "cell_type": "code",
      "metadata": {
        "id": "DEfIhkNRwvzY",
        "colab": {
          "base_uri": "https://localhost:8080/"
        },
        "outputId": "664f179d-3888-46f0-b940-a0410823c65d"
      },
      "source": [
        "\n",
        "# 解法一-數字解法\n",
        "def adddigitals_1(Number):\n",
        "  # 先處理負數問題\n",
        "  if Number <0 :\n",
        "    Number=Number*-1\n",
        "  \n",
        "  Sum=0\n",
        "  while Number!=0:\n",
        "    Sum=Sum+Number%10\n",
        "    Number=int(Number/10 )\n",
        "    \n",
        "  \n",
        "  print(Sum)\n",
        "adddigitals_1(-1234) # ans = 10"
      ],
      "execution_count": null,
      "outputs": [
        {
          "output_type": "stream",
          "text": [
            "10\n"
          ],
          "name": "stdout"
        }
      ]
    },
    {
      "cell_type": "code",
      "metadata": {
        "colab": {
          "base_uri": "https://localhost:8080/"
        },
        "id": "vpFPbiTzSdVv",
        "outputId": "b7741263-69d7-4b59-917b-404ac001ef34"
      },
      "source": [
        "# 解法二-字串解法\n",
        "def adddigitals_2(Number):\n",
        "  \n",
        "  Sum=0\n",
        "\n",
        "  for i in range(len(str(Number))):\n",
        "    Sum=Sum+int(Number[i])\n",
        "    print(Sum)\n",
        "\n",
        "\n",
        "  print(Sum)\n",
        "adddigitals_1(5678) # ans = 10"
      ],
      "execution_count": null,
      "outputs": [
        {
          "output_type": "stream",
          "text": [
            "26\n"
          ],
          "name": "stdout"
        }
      ]
    },
    {
      "cell_type": "code",
      "metadata": {
        "id": "AN5TCTgqnu3t"
      },
      "source": [
        "# Lidemy U5 Project 第一題\n",
        "# LIOJ 1025等比數列\n",
        "\n",
        "import sys\n",
        "N=int(input())\n",
        "\n",
        "\n",
        "Ai=(input().split(\" \"))\n",
        "\n",
        "\n",
        "def isgeometric(N,Ai):\n",
        "  if N==2:\n",
        "    return True\n",
        "\n",
        "  else:\n",
        "    # 等差級數\n",
        "    geometric=float(int(Ai[1])/int(Ai[0]))\n",
        "    # print(\"geometric :\",geometric)\n",
        "\n",
        "    for i in range(N-1):\n",
        "      # print(\"Ai[i+1] :\",Ai[i+1])\n",
        "      # print(\"Ai[i] :\",Ai[i])\n",
        "\n",
        "      if float(int(Ai[i+1])/int(Ai[i]))!=geometric:\n",
        "        \n",
        "        return False\n",
        "    \n",
        "    \n",
        "    return True   \n",
        "\n",
        "if isgeometric(N,Ai):\n",
        "  print(\"Yes\")\n",
        "else:\n",
        "  print(\"No\")  "
      ],
      "execution_count": null,
      "outputs": []
    },
    {
      "cell_type": "code",
      "metadata": {
        "id": "mNJzmrLHnymK"
      },
      "source": [
        "# Lidemy Project5 信用卡驗證 LIOJ#1027\n",
        "# https://oj.lidemy.com/problem/1027?_ga=2.203859797.47464004.1605858245-1563532151.1605858245\n",
        "\n",
        "# 信用卡15碼\n",
        "# 第一碼 : Master Card是5開頭， Visa是4， JCB則是3\n",
        "\n",
        "# 前15位數經過加權加總得一個數字，此數除以10取餘數\n",
        "# 如果餘數為0=>檢查碼為0 ，否則用10減去之後的結果\n",
        "\n",
        "# 加權的部分\n",
        "# 左邊起奇數*2 偶數*1\n",
        "# 如果加權比10大則減去9\n",
        "\n",
        "# 例如\n",
        "# 5412-3456-7890-1232\n",
        "# 第一位5=>Master Card\n",
        "# 5 1 3 5 7 9 1 3=>都是乘以2，但比10大時減去9 \n",
        "  # =>1(10-9) + 2 + 6 + 1(10-9) + 5(14-9) + 9(18-9) + 2 + 6 = 32\n",
        "# 4 2 4 6 8 0 2 2=>都是乘以1\n",
        "  # =>4 + 2 + 4 + 6 + 8 + 0 + 2 = 26\n",
        "\n",
        "# 奇數偶數相加=32+26=58\n",
        "# 58%10=8 ，檢查碼=10-8=2\n",
        "# 卡號的第16位=2，因此為合法\n",
        "\n",
        "# 輸入: 5412-3456-7890-1232\n",
        "# 輸出: 不合法，請輸出 INVALID；\n",
        "    # 合法 VISA 與MASTER_CARD"
      ],
      "execution_count": null,
      "outputs": []
    },
    {
      "cell_type": "code",
      "metadata": {
        "colab": {
          "base_uri": "https://localhost:8080/"
        },
        "id": "a6-jSveloO1h",
        "outputId": "c6ef5c51-67fc-4de5-85dc-eb6cfe228ee0"
      },
      "source": [
        "import sys\n",
        "# input card number\n",
        "CardNum=str(input())\n",
        "\n",
        "\n",
        "\n",
        "# step0 clean card number\n",
        "CardNum=CardNum[0:4]+CardNum[5:9]+CardNum[10:14]+CardNum[15:19]\n",
        "\n",
        "\n",
        "# step1 check is it valid?\n",
        "\n",
        "def IsValide(CardNum):\n",
        "\n",
        "  Sum_1=0 #奇數總和\n",
        "  Sum_2=0 #偶數總和\n",
        "\n",
        "  for i in range(len(CardNum)-1):\n",
        "\n",
        "    if i%2==0: \n",
        "      \n",
        "      if (int(CardNum[i])*2)>=10:\n",
        "\n",
        "        Sum_1=Sum_1+(int(CardNum[i])*2-9)\n",
        "\n",
        "      else:\n",
        "        Sum_1=Sum_1+(int(CardNum[i])*2)\n",
        " \n",
        "    \n",
        "    else:\n",
        "       Sum_2=Sum_2+int(CardNum[i])*1\n",
        " \n",
        "  \n",
        "  # check number\n",
        "\n",
        "\n",
        "  if 10-((Sum_1+Sum_2)%10)!= int(CardNum[15]):\n",
        "    print(\"INVALID\")\n",
        "  else:\n",
        "    if int(CardNum[0])==5:\n",
        "      print(\"MASTER_CARD\") \n",
        "    elif int(CardNum[0])==4:\n",
        "       print(\"VISA\") \n",
        "\n",
        "IsValide(CardNum)                "
      ],
      "execution_count": null,
      "outputs": [
        {
          "output_type": "stream",
          "text": [
            "4498-6640-2633-4106\n",
            "VISA\n"
          ],
          "name": "stdout"
        }
      ]
    },
    {
      "cell_type": "code",
      "metadata": {
        "id": "UdDIhc9kCx84"
      },
      "source": [
        "# Lidemy Project5 生命靈數 #1028\n",
        "# https://oj.lidemy.com/problem/1028?_ga=2.232081882.47464004.1605858245-1563532151.1605858245\n",
        "\n",
        "# 所有的數字相加加到只剩下個位數\n",
        "# 例如: 1991 11 7\n",
        "# 1+9+9+1+1+1+7=31 =>3+1=4\n",
        "\n"
      ],
      "execution_count": null,
      "outputs": []
    },
    {
      "cell_type": "code",
      "metadata": {
        "colab": {
          "base_uri": "https://localhost:8080/"
        },
        "id": "Mwq7D_X6DNLi",
        "outputId": "97d86b09-ee80-4c2a-dacd-2e38b0ce43ec"
      },
      "source": [
        "import sys\n",
        "\n",
        "BD=str(input())\n",
        "# Clean string\n",
        "BD=BD.replace(\" \",\"\")\n",
        "\n",
        "\n",
        "\n",
        "# Add\n",
        "while (len(BD))!=1:\n",
        "    sum=0\n",
        "    for i in range(len((BD))):\n",
        "      sum=sum+int(BD[i])\n",
        "    \n",
        "    BD=str(sum)\n",
        "\n",
        "print(sum)  "
      ],
      "execution_count": null,
      "outputs": [
        {
          "output_type": "stream",
          "text": [
            "111\n",
            "3\n"
          ],
          "name": "stdout"
        }
      ]
    },
    {
      "cell_type": "code",
      "metadata": {
        "id": "e_auk_G-FzTB"
      },
      "source": [
        "# Lidemy Project5 加減乘除 #1029\n",
        "# https://oj.lidemy.com/problem/1029\n",
        "# 輸入兩數 和 運算符號\n",
        "# 輸出運算結果以整數表示"
      ],
      "execution_count": null,
      "outputs": []
    },
    {
      "cell_type": "code",
      "metadata": {
        "colab": {
          "base_uri": "https://localhost:8080/"
        },
        "id": "wK6lW4KtFz2n",
        "outputId": "62ca7504-cb4e-429b-dc5e-722512f6851a"
      },
      "source": [
        "import sys\n",
        "\n",
        "AB=str(input())\n",
        "\n",
        "\n",
        "A=int(AB.split(' ')[0])\n",
        "Operator=AB.split(' ')[1]\n",
        "B=int(AB.split(' ')[2])\n",
        "\n",
        "\n",
        "\n",
        "if Operator==\"+\":\n",
        "  print(int(A+B))\n",
        "  \n",
        "elif Operator==\"-\":\n",
        "  print(int(A-B))\n",
        "\n",
        "elif Operator==\"*\":\n",
        "  print(int(A*B))\n",
        "\n",
        "elif Operator==\"/\":\n",
        "  print(int(A/B))\n"
      ],
      "execution_count": null,
      "outputs": [
        {
          "output_type": "stream",
          "text": [
            "3 * 4\n",
            "12\n"
          ],
          "name": "stdout"
        }
      ]
    },
    {
      "cell_type": "code",
      "metadata": {
        "id": "Co78TmRh66-z"
      },
      "source": [
        "# Lidemy project U5 LIOJ#1030 判斷迴文\n",
        "# https://oj.lidemy.com/problem/1030\n",
        "\n",
        "# 迴文定義是把它反過來還是長一樣\n",
        "# 例如 輸入: abbbba 輸出:True\n",
        "# 輸入: ac 輸出:False\n",
        "\n"
      ],
      "execution_count": null,
      "outputs": []
    },
    {
      "cell_type": "code",
      "metadata": {
        "colab": {
          "base_uri": "https://localhost:8080/"
        },
        "id": "SB30Wcq0BB7d",
        "outputId": "8722e7f3-f69b-4efa-a3bc-7e2bd931c5fc"
      },
      "source": [
        "import sys\n",
        "\n",
        "S=str(input())\n",
        "\n",
        "\n",
        "def isrecover(S):\n",
        "  for i in range(len(S)):\n",
        "    if S[i]==S[len(S)-i-1]:\n",
        "      continue\n",
        "\n",
        "    elif S[i]!=S[len(S)-i-1]:\n",
        "      return False\n",
        "  return True    \n",
        "\n",
        "\n",
        "if (isrecover(S)):\n",
        "  print(\"True\")\n",
        "\n",
        "else:\n",
        "  print(\"False\")\n",
        "\n",
        "\n",
        "     \n",
        " \n",
        "  \n",
        "\n",
        " "
      ],
      "execution_count": null,
      "outputs": [
        {
          "output_type": "stream",
          "text": [
            "ASD\n",
            "False\n"
          ],
          "name": "stdout"
        }
      ]
    },
    {
      "cell_type": "code",
      "metadata": {
        "id": "wwfAhfRsCmW9"
      },
      "source": [
        "# Lidemy Project U5 LIOJ#1031 完全平方和\n",
        "# https://oj.lidemy.com/problem/1031\n",
        "# 請輸出 1~N 中完全平方數的總和\n",
        "\n",
        "# 例如: 輸入30 輸出為55 ，因為1+4+9+16+25= 55\n"
      ],
      "execution_count": null,
      "outputs": []
    },
    {
      "cell_type": "code",
      "metadata": {
        "colab": {
          "base_uri": "https://localhost:8080/"
        },
        "id": "N1JEdKI3EzDR",
        "outputId": "c5ab26ed-0958-42a4-b242-1b145e6caece"
      },
      "source": [
        "import sys\n",
        "\n",
        "N=int(str(input()))\n",
        "\n",
        "sum=0\n",
        "for i in range(1,N+1):\n",
        "\n",
        "  if i**2>N:\n",
        "    break\n",
        "  else:\n",
        "    sum+= i**2 \n",
        "print(sum)"
      ],
      "execution_count": null,
      "outputs": [
        {
          "output_type": "stream",
          "text": [
            "30\n",
            "55\n"
          ],
          "name": "stdout"
        }
      ]
    },
    {
      "cell_type": "code",
      "metadata": {
        "id": "wz34gGWjGZlu"
      },
      "source": [
        "# Lidemy Project U5 LIOJ#1032 平面距離計算\n",
        "\n",
        "# 兩個點 (x1, y1) 與 (x2,y2) 的距離計算公式則為 \\sqrt{|x1-x2|^2 + |y1-y2|^2 } \n",
        "\n",
        "# 輸入:\n",
        "# 第一行為一個正整數 T（1&lt;=T&lt;=1001<=T<=100），代表一共有幾筆測試資料\n",
        "# 每一筆測試資料會有 4 個整數，x1, y1, x2, y2，範圍均在 -100~100，彼此間以空行分開\n",
        "\n",
        "\n",
        "1\n",
        "1\n",
        "2\n",
        "2\n",
        "3\n",
        "3\n",
        "4\n",
        "4\n",
        "\n",
        "# 輸出:\n",
        "1.41\n",
        "1.41\n"
      ],
      "execution_count": null,
      "outputs": []
    },
    {
      "cell_type": "code",
      "metadata": {
        "id": "oa4t-fCFGzUY",
        "colab": {
          "base_uri": "https://localhost:8080/"
        },
        "outputId": "903b9337-0b5d-49a0-829b-dfdab6b80148"
      },
      "source": [
        "import sys\n",
        "Case=int(input()) # 幾筆\n",
        "\n",
        "\n",
        "XY=[]\n",
        "for i in range(Case*4):\n",
        "    a=int(input())\n",
        "    XY.append(a)\n",
        "\n",
        "\n",
        "for i in range(Case):\n",
        "  X1=XY[i*4+0]\n",
        "  Y1=XY[i*4+1]\n",
        "  X2=XY[i*4+2]\n",
        "  Y2=XY[i*4+3]\n",
        "\n",
        "  \n",
        "  distance=((X1-X2)**2+(Y1-Y2)**2)**0.5\n",
        "  print('%.2f'%round(distance,2))"
      ],
      "execution_count": null,
      "outputs": [
        {
          "output_type": "stream",
          "text": [
            "2\n",
            "1\n",
            "1\n",
            "2\n",
            "2\n",
            "3\n",
            "3\n",
            "4\n",
            "4\n",
            "1.41\n",
            "1.41\n"
          ],
          "name": "stdout"
        }
      ]
    },
    {
      "cell_type": "markdown",
      "metadata": {
        "id": "7NzzIlDjJz2M"
      },
      "source": [
        "# Lidemy LIOJ #1023 最近點對\n",
        "\n",
        "https://oj.lidemy.com/problem/1033\n",
        "\n",
        "求距離最近的兩點\n",
        "\n",
        "如果有多組距離一樣近，則輸出第一組資料\n",
        "\n",
        "EX:\n",
        "輸入\n",
        "\n",
        "\n",
        "```\n",
        "4\n",
        "2 2\n",
        "1 1\n",
        "10 10\n",
        "100 100\n",
        "```\n",
        "\n",
        "輸出\n",
        "\n",
        "\n",
        "```\n",
        "1 1\n",
        "2 2\n",
        "```\n"
      ]
    },
    {
      "cell_type": "code",
      "metadata": {
        "colab": {
          "base_uri": "https://localhost:8080/"
        },
        "id": "Hc_-OfNafbNj",
        "outputId": "7bcdae28-f6db-47e1-f776-e0304f2484a9"
      },
      "source": [
        "import sys\n",
        "case=int(input()) \n",
        "XY=[]\n",
        "for i in range(case):\n",
        "    a=(input().split(' '))\n",
        "  \n",
        "    XY.append(a[0])\n",
        "    XY.append(a[1])\n",
        "\n",
        "def CountDistance(m,n):\n",
        "\n",
        "  X1=int(XY[m*2+0])\n",
        "  Y1=int(XY[m*2+1])\n",
        "  X2=int(XY[n*2+0])\n",
        "  Y2=int(XY[n*2+1])\n",
        "\n",
        "  distance=((X1-X2)**2+(Y1-Y2)**2)**0.5\n",
        "  point=[X1,Y1,X2,Y2]\n",
        "  return distance,point\n",
        "\n",
        "\n",
        "def find_min_point(case):\n",
        "  for m in range(case):\n",
        "    for n in range(m+1,case):\n",
        "      if m ==0 and n==1:\n",
        "       min_distance,min_point=CountDistance(m,n)\n",
        "\n",
        "      else:\n",
        "        distance,point=CountDistance(m,n)\n",
        "      \n",
        "        if distance<min_distance:\n",
        "          min_distance=distance\n",
        "          min_point=point\n",
        "  return  min_point      \n",
        "\n",
        "\n",
        "\n",
        "def output(min_point):\n",
        "  if min_point[0]==min_point[2]:\n",
        "    if min_point[1]<min_point[3]:\n",
        "      print(min_point[0],min_point[1])\n",
        "      print(min_point[2],min_point[3])\n",
        "    else:\n",
        "      print(min_point[2],min_point[3])\n",
        "      print(min_point[0],min_point[1])\n",
        "\n",
        "  else:\n",
        "    if min_point[0]<min_point[2]:    \n",
        "      print(min_point[0],min_point[1])  \n",
        "      print(min_point[2],min_point[3])\n",
        "    else:\n",
        "      print(min_point[2],min_point[3]) \n",
        "      print(min_point[0],min_point[1])\n",
        "      \n",
        "\n",
        "min_point=find_min_point(case)\n",
        "output(min_point)"
      ],
      "execution_count": null,
      "outputs": [
        {
          "output_type": "stream",
          "text": [
            "2\n",
            "1 1\n",
            "2 2\n",
            "1 1\n",
            "2 2\n"
          ],
          "name": "stdout"
        }
      ]
    },
    {
      "cell_type": "markdown",
      "metadata": {
        "id": "bzmC0Fd4jgvt"
      },
      "source": [
        "LIOJ #1034 凱薩加密\n",
        "\n",
        "> Input\n",
        "第一行為一個數字 N，代表要往右移的位數，0&lt;=N&lt;=1000<=N<=100\n",
        "第二行為一個字串 S，1&lt;= length(S) &lt;= 10001<=length(S)<=1000，代表原文，只會由小寫字母組成\n",
        "\n",
        "\n",
        "> Output\n",
        "請輸出把 S 的每個字母右移 N 位之後的結果\n",
        "\n",
        "EX:\n",
        "\n",
        "\n",
        "```\n",
        "輸入\n",
        "10\n",
        "xray\n",
        "```\n",
        "\n",
        "\n",
        "```\n",
        "輸出\n",
        "hbki\n",
        "```\n",
        "打算先把英文轉乘數字=>移動後再轉回英文輸出\n"
      ]
    },
    {
      "cell_type": "code",
      "metadata": {
        "colab": {
          "base_uri": "https://localhost:8080/"
        },
        "id": "lGraH7D1kARb",
        "outputId": "dfc76a1b-0838-487c-e251-27efa00d661d"
      },
      "source": [
        "import sys\n",
        "MoveNum=int(input()) \n",
        "S=(input())\n",
        "  \n",
        "\n",
        "\n",
        "dict = {'a':1, 'b':2, 'c':3, 'd':4, 'e':5, 'f':6,\n",
        "     'g':7, 'h':8, 'i':9, 'j':10, 'k':11, \n",
        "     'l':12, 'm':13, 'n':14, 'o':15, 'p':16,\n",
        "     'q':17, 'r':18, 's':19, 't':20, 'u':21,\n",
        "     'v':22, 'w':23, 'x':24, 'y':25, 'z':26,   \n",
        "      }\n",
        "\n",
        "key_list = list(dict.keys()) \n",
        "val_list = list(dict.values()) \n",
        "\n",
        "\n",
        "def StringToNumMove(S,MoveNum,dict):\n",
        "  NewS=[]\n",
        "\n",
        "  for i in range(len(S)):\n",
        "    Number=int(dict[S[i]])+MoveNum\n",
        "    while Number>26:\n",
        "      Number=Number-26\n",
        "    NewS.append(key_list[val_list.index(Number)]) \n",
        "    print(key_list[val_list.index(Number)],end=\"\") \n",
        "    \n",
        "StringToNumMove(S,MoveNum,dict)\n"
      ],
      "execution_count": null,
      "outputs": [
        {
          "output_type": "stream",
          "text": [
            "100\n",
            "zzz\n",
            "vvv"
          ],
          "name": "stdout"
        }
      ]
    },
    {
      "cell_type": "code",
      "metadata": {
        "id": "DvGreTYPwvKB"
      },
      "source": [
        "# LIOJ #1046 圈圈叉叉\n",
        "\n",
        "# 就是常在玩的圈圈叉叉的遊戲\n",
        "# 輸入為 O或X\n",
        "# 最後的結果可能為平手 或是某一方勝利\n",
        "# 因此輸出 DRAW 或 O 或 X"
      ],
      "execution_count": null,
      "outputs": []
    },
    {
      "cell_type": "code",
      "metadata": {
        "colab": {
          "base_uri": "https://localhost:8080/"
        },
        "id": "aWNNLViNxyxC",
        "outputId": "cb366643-67d4-4d49-b7ba-a9ac8d97afbf"
      },
      "source": [
        "import sys\n",
        "\n",
        "S1=(input())\n",
        "S2=(input())\n",
        "S3=(input())\n",
        "\n",
        "def win8function(S1,S2,S3):\n",
        "  win=[]\n",
        "\n",
        "  # 1.橫的\n",
        "  if S1[0]==S1[1]==S1[2]:\n",
        "    win.append(S1[0])\n",
        "  if  S2[0]==S2[1]==S2[2]:\n",
        "    win.append(S2[0])\n",
        "  if  S3[0]==S3[1]==S3[2]:\n",
        "    win.append(S3[0])\n",
        "\n",
        "  # 2.直的\n",
        "  if S1[0]==S2[0]==S3[0]:\n",
        "    win.append(S1[0])\n",
        "  if  S1[1]==S2[1]==S3[1]:\n",
        "    win.append(S1[1])\n",
        "  if  S1[2]==S2[2]==S3[2]:\n",
        "    win.append(S1[2])\n",
        "\n",
        "  # 3.左斜 \n",
        "  if S1[0]==S2[1]==S3[2]:\n",
        "    win.append(S1[0])\n",
        "  # 4.右斜\n",
        "  if S1[2]==S2[1]==S3[0]:\n",
        "    win.append(S1[2])\n",
        "\n",
        "  win=list(set(win))\n",
        "  if len(win)==2 or len(win)==0:\n",
        "    print(\"DRAW\")\n",
        "  else:\n",
        "    print(win[0])\n",
        "\n",
        "win8function(S1,S2,S3)"
      ],
      "execution_count": null,
      "outputs": [
        {
          "output_type": "stream",
          "text": [
            "OXX\n",
            "XXO\n",
            "OOX\n",
            "DRAW\n"
          ],
          "name": "stdout"
        }
      ]
    }
  ]
}